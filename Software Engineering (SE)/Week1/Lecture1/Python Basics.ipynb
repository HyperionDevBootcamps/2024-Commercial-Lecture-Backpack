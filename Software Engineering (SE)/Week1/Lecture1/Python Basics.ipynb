{
 "cells": [
  {
   "attachments": {},
   "cell_type": "markdown",
   "metadata": {},
   "source": [
    "### Python Basics\n",
    "\n",
    "Learning Objects\n",
    "- Print output to the console\n",
    "- Recieve input from users\n",
    "- Explain data types such as stings, integers, floats and booleans\n",
    "- Use different data types in code\n",
    "- Explain what a Conditional statement is\n",
    "- Use conditional statements in code."
   ]
  },
  {
   "attachments": {},
   "cell_type": "markdown",
   "metadata": {},
   "source": [
    "### Python\n",
    "\n",
    "We will be using Python during our sessions. Why do we use Python?\n",
    "\n",
    "- High-Level language\n",
    "- Can be used is various fields.(software engineering, web development, data science)\n",
    "- Large Eco-system and Community"
   ]
  },
  {
   "attachments": {},
   "cell_type": "markdown",
   "metadata": {},
   "source": [
    "### Ouput\n",
    "\n",
    "- The first thing we have to do is learn how we can communicate with the user.\n",
    "- Although most programs have graphical user interfaces(GUI) we only have the console available to us for now.\n",
    "- We will we making what is known as a Command-Line Application(CLI)\n"
   ]
  },
  {
   "attachments": {},
   "cell_type": "markdown",
   "metadata": {},
   "source": [
    "To output to the console we can use a built-in Pythin function print()"
   ]
  },
  {
   "cell_type": "code",
   "execution_count": 1,
   "metadata": {},
   "outputs": [
    {
     "name": "stdout",
     "output_type": "stream",
     "text": [
      "Hello World\n"
     ]
    }
   ],
   "source": [
    "print(\"Hello World\")"
   ]
  },
  {
   "attachments": {},
   "cell_type": "markdown",
   "metadata": {},
   "source": [
    "### Input\n",
    "\n",
    "- Communication goes in two directions.\n",
    "- We need to be able to get input from the user\n",
    "\n",
    "We can use another built-in python function input()"
   ]
  },
  {
   "cell_type": "code",
   "execution_count": 3,
   "metadata": {},
   "outputs": [
    {
     "name": "stdout",
     "output_type": "stream",
     "text": [
      "Armand\n"
     ]
    }
   ],
   "source": [
    "name = input(\"Please enter your name: \")\n",
    "print(name)"
   ]
  },
  {
   "attachments": {},
   "cell_type": "markdown",
   "metadata": {},
   "source": [
    "### Data Types\n",
    "\n",
    "- We have different data types available that each have different traits.\n",
    "- We have already made use the string data type\n",
    "- Data Types we will be looking at today\n",
    "    - String\n",
    "    - Integer\n",
    "    - Float\n",
    "    - Boolean"
   ]
  },
  {
   "attachments": {},
   "cell_type": "markdown",
   "metadata": {},
   "source": [
    "### Strings\n",
    "\n",
    "- String of characters\n",
    "- To create a string we can wrap characters in qoutes '' or \"\"\n",
    "- Used to represent text"
   ]
  },
  {
   "cell_type": "code",
   "execution_count": 4,
   "metadata": {},
   "outputs": [
    {
     "name": "stdout",
     "output_type": "stream",
     "text": [
      "Hello World\n"
     ]
    }
   ],
   "source": [
    "my_string = \"Hello World\"\n",
    "\n",
    "new_string = my_string + \"!\"\n",
    "new_string = f\"{my_string}!\"\n",
    "new_string = \"{}!\".format(my_string)\n",
    "\n",
    "upper_string = my_string.upper()\n",
    "\n",
    "print(len(my_string))"
   ]
  },
  {
   "attachments": {},
   "cell_type": "markdown",
   "metadata": {},
   "source": [
    "### Integers\n",
    "\n",
    "- Intergers are used to represent whole numbers\n",
    "- Can be positive or negative\n",
    "- Can be used to perform mathematical operations"
   ]
  },
  {
   "cell_type": "code",
   "execution_count": 7,
   "metadata": {},
   "outputs": [
    {
     "name": "stdout",
     "output_type": "stream",
     "text": [
      "10\n",
      "20\n",
      "30\n"
     ]
    }
   ],
   "source": [
    "num = 10\n",
    "num1 = num * 2\n",
    "num2 = num + num1\n",
    "\n",
    "print(num)\n",
    "print(num1)\n",
    "print(num2)"
   ]
  },
  {
   "attachments": {},
   "cell_type": "markdown",
   "metadata": {},
   "source": [
    "### Floats\n",
    "- Floats can be used to represent decimal numbers\n",
    "- Can be positive or negative\n",
    "- Can be used to perform mathematical operations"
   ]
  },
  {
   "cell_type": "code",
   "execution_count": 9,
   "metadata": {},
   "outputs": [
    {
     "name": "stdout",
     "output_type": "stream",
     "text": [
      "13.59\n",
      "2.3333333333333335\n"
     ]
    }
   ],
   "source": [
    "f_num = 5.7\n",
    "f_num2 = 7.89\n",
    "\n",
    "result = 7/3\n",
    "\n",
    "print(f_num + f_num2)\n",
    "print(result)"
   ]
  },
  {
   "attachments": {},
   "cell_type": "markdown",
   "metadata": {},
   "source": [
    "### Booleans\n",
    "- Used to represent True and False values"
   ]
  },
  {
   "cell_type": "code",
   "execution_count": null,
   "metadata": {},
   "outputs": [],
   "source": [
    "bool = True\n",
    "bool1 = False\n",
    "bool3 = 1 == 2"
   ]
  },
  {
   "attachments": {},
   "cell_type": "markdown",
   "metadata": {},
   "source": [
    "### Conditionals\n",
    "- Used to control the flow of code\n",
    "- We use boolean values of True and False to determine if code should run"
   ]
  },
  {
   "cell_type": "code",
   "execution_count": null,
   "metadata": {},
   "outputs": [],
   "source": [
    "if True:\n",
    "    print(\"Hello!\")\n",
    "\n",
    "bool = False\n",
    "\n",
    "if bool:\n",
    "    print(\"Hello!\")\n",
    "else:\n",
    "    print(\"Bye!\")\n",
    "\n",
    "num = 10\n",
    "if num < 15:\n",
    "    print(f\"{num} is smaller than 15\")\n",
    "\n",
    "name = \"Peter\"\n",
    "if name == \"Peter\":\n",
    "    print(f\"Your name is {name}\")"
   ]
  }
 ],
 "metadata": {
  "kernelspec": {
   "display_name": "Python 3",
   "language": "python",
   "name": "python3"
  },
  "language_info": {
   "codemirror_mode": {
    "name": "ipython",
    "version": 3
   },
   "file_extension": ".py",
   "mimetype": "text/x-python",
   "name": "python",
   "nbconvert_exporter": "python",
   "pygments_lexer": "ipython3",
   "version": "3.12.4"
  },
  "orig_nbformat": 4,
  "vscode": {
   "interpreter": {
    "hash": "3fcbd7240ee8f908d933dc7f71e8c42a1a91163b70ede8dcff5146d4087436c7"
   }
  }
 },
 "nbformat": 4,
 "nbformat_minor": 2
}
